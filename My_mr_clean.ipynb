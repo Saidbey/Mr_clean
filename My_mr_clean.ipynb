{
  "nbformat": 4,
  "nbformat_minor": 0,
  "metadata": {
    "colab": {
      "provenance": [],
      "collapsed_sections": [],
      "authorship_tag": "ABX9TyMsw5ZwGH/2pspzCySjB8SF",
      "include_colab_link": true
    },
    "kernelspec": {
      "name": "python3",
      "display_name": "Python 3"
    },
    "language_info": {
      "name": "python"
    }
  },
  "cells": [
    {
      "cell_type": "markdown",
      "metadata": {
        "id": "view-in-github",
        "colab_type": "text"
      },
      "source": [
        "<a href=\"https://colab.research.google.com/github/Saidbey/Mr_clean/blob/main/My_mr_clean.ipynb\" target=\"_parent\"><img src=\"https://colab.research.google.com/assets/colab-badge.svg\" alt=\"Open In Colab\"/></a>"
      ]
    },
    {
      "cell_type": "code",
      "source": [],
      "metadata": {
        "id": "WBDDXRBQ1iC4"
      },
      "execution_count": null,
      "outputs": []
    },
    {
      "cell_type": "code",
      "execution_count": 1,
      "metadata": {
        "id": "-pHrz-c_1GwP"
      },
      "outputs": [],
      "source": [
        "import requests\n",
        "import pandas as pd\n",
        "from bs4 import BeautifulSoup\n",
        "import seaborn as sns\n",
        "import string\n"
      ]
    },
    {
      "cell_type": "code",
      "source": [
        "def get_content(url): \n",
        "  return BeautifulSoup(requests.get(url).text, \"html.parser\").select_one(\"div.vector-body\").text"
      ],
      "metadata": {
        "id": "0w2Au5bNKK2I"
      },
      "execution_count": 2,
      "outputs": []
    },
    {
      "cell_type": "code",
      "source": [
        "def merge_contents(data):\n",
        "  res = []\n",
        "  for i in str(data).split(\" \"):\n",
        "    if i.isalpha():\n",
        "      res.append(i)\n",
        "  return res"
      ],
      "metadata": {
        "id": "TP6zfxQCNIKb"
      },
      "execution_count": 3,
      "outputs": []
    },
    {
      "cell_type": "code",
      "source": [
        "def tokenize(content):\n",
        "  con = str(content).translate(str.maketrans(' ', ' ', string.punctuation))\n",
        "  return con"
      ],
      "metadata": {
        "id": "AFIFtVRjOkew"
      },
      "execution_count": 4,
      "outputs": []
    },
    {
      "cell_type": "code",
      "source": [
        "def lower_collection(collection):\n",
        "  re = str(collection).lower()\n",
        "  return re"
      ],
      "metadata": {
        "id": "dtjsq9lv4JFb"
      },
      "execution_count": 5,
      "outputs": []
    },
    {
      "cell_type": "code",
      "source": [
        "def count_frequency(lower):\n",
        "  count = {}\n",
        "  for x in lower:\n",
        "    count[x] = lower.count(x)\n",
        "  return count"
      ],
      "metadata": {
        "id": "Ckj_51Uf4Jmp"
      },
      "execution_count": 6,
      "outputs": []
    },
    {
      "cell_type": "code",
      "source": [
        "def print_most_frequent(frequencies, n):\n",
        "  word_freq = []\n",
        "  for key, value in frequencies.items():\n",
        "    word_freq.append((value, key))\n",
        "    word_freq.sort(reverse=True)\n",
        "  return word_freq\n",
        "    \n",
        "  "
      ],
      "metadata": {
        "id": "9JJ3nUQTC_Fm"
      },
      "execution_count": 7,
      "outputs": []
    },
    {
      "cell_type": "code",
      "source": [
        "stop_words = ['a','able','about','across','after','all','al''most','also','am','among','an','and','any','are','as','at','be','because','been','but','by','can','cannot',\n",
        "                'could','dear','did','do','does','either','else','ever','every','for','from','get','got','had','has','have','he','her','hers','him','his','how','however',\n",
        "                'i','if','in','into','is','it','its','just','least','let','like','likely','may','me','might','most','must','my','neither','no','nor','not','of','off','often',\n",
        "                'on','only','or','other','our','own','rather','said','say','says','she','should','since','so','some','than','that','the','their','them','then','there','these',\n",
        "                'they','this','tis','to','too','twas','us','wants','was','we','were','what','when','where','which','while','who','whom','why','will','with','would','yet','you','your','uv', 'being']"
      ],
      "metadata": {
        "id": "AIG5sXNUPw02"
      },
      "execution_count": 8,
      "outputs": []
    },
    {
      "cell_type": "code",
      "source": [
        "def remove_stop_words(words, stop_words):\n",
        "  return [x for x in words if x not in stop_words]               "
      ],
      "metadata": {
        "id": "bEKhOiQkFoA6"
      },
      "execution_count": 9,
      "outputs": []
    },
    {
      "cell_type": "code",
      "source": [
        "def find_common(freq):\n",
        "  df = pd.DataFrame(freq)\n",
        "  df.set_index(df.columns[0], inplace=True)\n",
        "  data = df.sort_index(ascending=False).head(25)\n",
        "  return data"
      ],
      "metadata": {
        "id": "_IQF1gzZTPtw"
      },
      "execution_count": 10,
      "outputs": []
    },
    {
      "cell_type": "code",
      "source": [
        "def visualize(find):\n",
        "  find.columns = ['Top sozlar']\n",
        "  find.index.name = \"Sozlarning soni\"\n",
        "  find = find.reset_index()\n",
        "  find.index.name = \"Egallagan o'rni\"\n",
        "  fig = sns.barplot(data=find, y = 'Top sozlar', x = 'Sozlarning soni')\n",
        "  "
      ],
      "metadata": {
        "id": "LeyfcJgeVfIt"
      },
      "execution_count": 11,
      "outputs": []
    },
    {
      "cell_type": "code",
      "source": [
        "def main():\n",
        "  url = 'https://en.wikipedia.org/wiki/Ozone_layer'\n",
        "  data = get_content(url)\n",
        "  content = merge_contents(data)\n",
        "  collection = tokenize(content)\n",
        "  lower = lower_collection(collection)\n",
        "  filtered_collection = remove_stop_words(lower.split(), stop_words)\n",
        "  frequencies = count_frequency(filtered_collection)\n",
        "  freq = print_most_frequent(frequencies, 10)\n",
        "  find = find_common(freq)\n",
        "  visualization = visualize(find)\n",
        "  print(freq)\n",
        "main()"
      ],
      "metadata": {
        "colab": {
          "base_uri": "https://localhost:8080/",
          "height": 317
        },
        "id": "W7Ib22rkMGx0",
        "outputId": "73499329-50ff-47c0-91b8-7f7379043f64"
      },
      "execution_count": 12,
      "outputs": [
        {
          "output_type": "stream",
          "name": "stdout",
          "text": [
            "[(106, 'ozone'), (25, 'layer'), (20, 'retrieved'), (18, 'ultraviolet'), (16, 'radiation'), (13, 'climate'), (11, 'solid'), (11, 'depletion'), (10, 'identifiersarticles'), (9, 'skin'), (8, 'stratospheric'), (8, 'national'), (8, 'atmosphere'), (7, 'united'), (7, 'surface'), (7, 'over'), (7, 'levels'), (7, 'environmental'), (6, 'used'), (6, 'stratosphere'), (6, 'oxygen'), (6, 'original'), (6, 'atmospheric'), (6, 'antarctic'), (6, 'air'), (5, 'study'), (5, 'risks'), (5, 'related'), (5, 'percent'), (5, 'parts'), (5, 'out'), (5, 'northern'), (5, 'nations'), (5, 'more'), (5, 'montreal'), (5, 'high'), (5, 'global'), (5, 'circulation'), (5, 'change'), (5, 'cause'), (5, 'between'), (5, 'archived'), (5, 'absorbs'), (5, 'above'), (4, 'very'), (4, 'states'), (4, 'spring'), (4, 'regulation'), (4, 'protection'), (4, 'production'), (4, 'popular'), (4, 'oxide'), (4, 'near'), (4, 'much'), (4, 'metaphors'), (4, 'march'), (4, 'light'), (4, 'less'), (4, 'lay'), (4, 'latitudes'), (4, 'international'), (4, 'increased'), (4, 'important'), (4, 'harmful'), (4, 'effective'), (4, 'concentrations'), (4, 'concentration'), (4, 'chlorofluorocarbons'), (4, 'cfcs'), (4, 'case'), (4, 'april'), (3, 'worldwide'), (3, 'wavelengths'), (3, 'varies'), (3, 'uses'), (3, 'unsourced'), (3, 'three'), (3, 'thickness'), (3, 'td'), (3, 'such'), (3, 'studies'), (3, 'specific'), (3, 'shows'), (3, 'sheldon'), (3, 'september'), (3, 'reaching'), (3, 'reaches'), (3, 'quite'), (3, 'proven'), (3, 'protecting'), (3, 'produced'), (3, 'proceedings'), (3, 'per'), (3, 'ocean'), (3, 'nitrous'), (3, 'months'), (3, 'life'), (3, 'large'), (3, 'known'), (3, 'journal'), (3, 'information'), (3, 'including'), (3, 'higher'), (3, 'geographic'), (3, 'gases'), (3, 'free'), (3, 'found'), (3, 'energy'), (3, 'effects'), (3, 'during'), (3, 'due'), (3, 'du'), (3, 'down'), (3, 'discovery'), (3, 'dioxygen'), (3, 'developed'), (3, 'countries'), (3, 'compounds'), (3, 'capable'), (3, 'band'), (3, 'authors'), (3, 'atoms'), (3, 'atomic'), (3, 'although'), (3, 'additional'), (3, 'act'), (3, 'academy'), (2, 'wavelength'), (2, 'versus'), (2, 'various'), (2, 'variations'), (2, 'use'), (2, 'until'), (2, 'university'), (2, 'understanding'), (2, 'tropics'), (2, 'treaty'), (2, 'transcript'), (2, 'top'), (2, 'thinnest'), (2, 'sun'), (2, 'stronger'), (2, 'still'), (2, 'standards'), (2, 'spectrum'), (2, 'southern'), (2, 'solar'), (2, 'slowed'), (2, 'significantly'), (2, 'short'), (2, 'seen'), (2, 'seasonal'), (2, 'screened'), (2, 'scientists'), (2, 'scientific'), (2, 'satellites'), (2, 'rise'), (2, 'respiratory'), (2, 'relation'), (2, 'reiner'), (2, 'regulatory'), (2, 'region'), (2, 'reach'), (2, 'range'), (2, 'radical'), (2, 'public'), (2, 'proved'), (2, 'protocol'), (2, 'preservation'), (2, 'potentially'), (2, 'portion'), (2, 'polar'), (2, 'physical'), (2, 'persons'), (2, 'people'), (2, 'parameter'), (2, 'paper'), (2, 'organohalogen'), (2, 'orbiting'), (2, 'one'), (2, 'oar'), (2, 'needing'), (2, 'natural'), (2, 'molecules'), (2, 'molecule'), (2, 'missing'), (2, 'million'), (2, 'measure'), (2, 'mainly'), (2, 'lowest'), (2, 'lower'), (2, 'long'), (2, 'line'), (2, 'lee'), (2, 'kilometres'), (2, 'kilometers'), (2, 'january'), (2, 'interview'), (2, 'institute'), (2, 'individual'), (2, 'improve'), (2, 'importance'), (2, 'imminent'), (2, 'ignorance'), (2, 'hydrofluorocarbons'), (2, 'hole'), (2, 'highest'), (2, 'hemisphere'), (2, 'health'), (2, 'ground'), (2, 'greater'), (2, 'genetic'), (2, 'general'), (2, 'expected'), (2, 'evolution'), (2, 'evidence'), (2, 'everyday'), (2, 'european'), (2, 'environment'), (2, 'energetic'), (2, 'emitted'), (2, 'emissions'), (2, 'earth'), (2, 'each'), (2, 'discussion'), (2, 'discovered'), (2, 'different'), (2, 'difference'), (2, 'developing'), (2, 'described'), (2, 'derived'), (2, 'depleted'), (2, 'david'), (2, 'damage'), (2, 'd'), (2, 'continue'), (2, 'contains'), (2, 'containing'), (2, 'compared'), (2, 'communicated'), (2, 'clean'), (2, 'citations'), (2, 'chlorine'), (2, 'chemicals'), (2, 'cfc'), (2, 'cautious'), (2, 'causes'), (2, 'bromine'), (2, 'british'), (2, 'bridging'), (2, 'breakdown'), (2, 'blocks'), (2, 'bans'), (2, 'average'), (2, 'august'), (2, 'articles'), (2, 'article'), (2, 'around'), (2, 'approximately'), (2, 'annual'), (2, 'announced'), (2, 'amounts'), (2, 'amount'), (2, 'american'), (2, 'allowed'), (2, 'absorption'), (1, 'zhangfu'), (1, 'young'), (1, 'written'), (1, 'world'), (1, 'within'), (1, 'wind'), (1, 'wildlife'), (1, 'wikidatawikipedia'), (1, 'wikidataarticles'), (1, 'whole'), (1, 'whereas'), (1, 'westview'), (1, 'weaker'), (1, 'waters'), (1, 'vortex'), (1, 'vitamin'), (1, 'vitally'), (1, 'visible'), (1, 'verify'), (1, 'validation'), (1, 'vacuum'), (1, 'usually'), (1, 'usual'), (1, 'using'), (1, 'useful'), (1, 'urban'), (1, 'unstable'), (1, 'union'), (1, 'ungar'), (1, 'unbroken'), (1, 'unabsorbed'), (1, 'type'), (1, 'two'), (1, 'turns'), (1, 'turn'), (1, 'troposphere'), (1, 'tribal'), (1, 'trend'), (1, 'treaties'), (1, 'transported'), (1, 'transparent'), (1, 'transnational'), (1, 'transfer'), (1, 'tracing'), (1, 'tracer'), (1, 'towards'), (1, 'toward'), (1, 'total'), (1, 'times'), (1, 'through'), (1, 'threatened'), (1, 'thinner'), (1, 'thin'), (1, 'thickest'), (1, 'thicker'), (1, 'text'), (1, 'terms'), (1, 'template'), (1, 'temperature'), (1, 'telescope'), (1, 'technology'), (1, 'technologies'), (1, 'taylor'), (1, 'taken'), (1, 'system'), (1, 'sydney'), (1, 'susan'), (1, 'surviving'), (1, 'survive'), (1, 'support'), (1, 'summer'), (1, 'sudoc'), (1, 'successful'), (1, 'substitute'), (1, 'substance'), (1, 'subject'), (1, 'studying'), (1, 'striking'), (1, 'strict'), (1, 'stockpiled'), (1, 'stephen'), (1, 'stations'), (1, 'statementsarticles'), (1, 'statements'), (1, 'state'), (1, 'stars'), (1, 'staff'), (1, 'stable'), (1, 'sprays'), (1, 'splitting'), (1, 'splits'), (1, 'spectrophotometer'), (1, 'space'), (1, 'south'), (1, 'sources'), (1, 'something'), (1, 'small'), (1, 'slowing'), (1, 'six'), (1, 'single'), (1, 'simple'), (1, 'signed'), (1, 'showed'), (1, 'show'), (1, 'shorter'), (1, 'shield'), (1, 'shagoon'), (1, 'several'), (1, 'set'), (1, 'service'), (1, 'sent'), (1, 'see'), (1, 'section'), (1, 'seasonally'), (1, 'season'), (1, 'sea'), (1, 'screening'), (1, 'sciences'), (1, 'science'), (1, 'satellite'), (1, 'safeguarding'), (1, 'role'), (1, 'risk'), (1, 'richard'), (1, 'review'), (1, 'revealed'), (1, 'results'), (1, 'resulting'), (1, 'resulted'), (1, 'responses'), (1, 'resources'), (1, 'residual'), (1, 'residential'), (1, 'research'), (1, 'requirement'), (1, 'reports'), (1, 'reported'), (1, 'replacement'), (1, 'replaced'), (1, 'replace'), (1, 'remove'), (1, 'reliable'), (1, 'released'), (1, 'release'), (1, 'rejected'), (1, 'regulations'), (1, 'regulate'), (1, 'regions'), (1, 'refrigeration'), (1, 'refers'), (1, 'referred'), (1, 'referencesall'), (1, 'references'), (1, 'reduced'), (1, 'red'), (1, 'recycled'), (1, 'recover'), (1, 'reconstructing'), (1, 'recent'), (1, 'reasons'), (1, 'reactive'), (1, 'reaction'), (1, 'react'), (1, 'rate'), (1, 'ranging'), (1, 'ranges'), (1, 'rana'), (1, 'radicals'), (1, 'radiationhidden'), (1, 'questions'), (1, 'quantities'), (1, 'quality'), (1, 'psychology'), (1, 'provides'), (1, 'proposal'), (1, 'properties'), (1, 'projections'), (1, 'projected'), (1, 'programme'), (1, 'products'), (1, 'process'), (1, 'problems'), (1, 'primarily'), (1, 'previous'), (1, 'prevents'), (1, 'prevent'), (1, 'pressure'), (1, 'presentation'), (1, 'premature'), (1, 'possible'), (1, 'population'), (1, 'pollutions'), (1, 'politics'), (1, 'policy'), (1, 'poles'), (1, 'points'), (1, 'please'), (1, 'planet'), (1, 'place'), (1, 'physics'), (1, 'physicists'), (1, 'physicist'), (1, 'photolyzes'), (1, 'photolysis'), (1, 'photochemical'), (1, 'phasing'), (1, 'phaseout'), (1, 'phased'), (1, 'peter'), (1, 'penetrating'), (1, 'paul'), (1, 'patterns'), (1, 'pathways'), (1, 'patches'), (1, 'past'), (1, 'particularly'), (1, 'pagesarticles'), (1, 'oxford'), (1, 'owing'), (1, 'otherwise'), (1, 'origins'), (1, 'organized'), (1, 'ordinary'), (1, 'order'), (1, 'operated'), (1, 'operate'), (1, 'odss'), (1, 'ods'), (1, 'october'), (1, 'occurred'), (1, 'occasionally'), (1, 'now'), (1, 'norway'), (1, 'north'), (1, 'nkc'), (1, 'nitrogen'), (1, 'nitric'), (1, 'new'), (1, 'network'), (1, 'negotiator'), (1, 'negotiation'), (1, 'negative'), (1, 'needs'), (1, 'nebula'), (1, 'ndl'), (1, 'nature'), (1, 'naturally'), (1, 'nathan'), (1, 'nasa'), (1, 'nara'), (1, 'named'), (1, 'multiple'), (1, 'moving'), (1, 'mountain'), (1, 'monitoring'), (1, 'mitigating'), (1, 'millimetres'), (1, 'middle'), (1, 'meteorologist'), (1, 'meetings'), (1, 'media'), (1, 'mechanisms'), (1, 'measurements'), (1, 'measured'), (1, 'maximum'), (1, 'maximal'), (1, 'material'), (1, 'matched'), (1, 'markedly'), (1, 'marine'), (1, 'many'), (1, 'make'), (1, 'majority'), (1, 'major'), (1, 'main'), (1, 'mack'), (1, 'loop'), (1, 'longest'), (1, 'longer'), (1, 'living'), (1, 'linksarticles'), (1, 'link'), (1, 'limited'), (1, 'lifting'), (1, 'lies'), (1, 'liberated'), (1, 'level'), (1, 'lessons'), (1, 'led'), (1, 'lead'), (1, 'lccn'), (1, 'layers'), (1, 'launched'), (1, 'latest'), (1, 'later'), (1, 'late'), (1, 'largest'), (1, 'larger'), (1, 'land'), (1, 'knowledge'), (1, 'junfeng'), (1, 'june'), (1, 'jonathan'), (1, 'john'), (1, 'joe'), (1, 'introduced'), (1, 'interactions'), (1, 'intensity'), (1, 'initiate'), (1, 'industrial'), (1, 'indirect'), (1, 'indefinitely'), (1, 'increases'), (1, 'increase'), (1, 'included'), (1, 'implications'), (1, 'implemented'), (1, 'implementation'), (1, 'impact'), (1, 'immune'), (1, 'image'), (1, 'illnesses'), (1, 'identifierspages'), (1, 'hydroxyl'), (1, 'humans'), (1, 'human'), (1, 'hot'), (1, 'hits'), (1, 'highly'), (1, 'hfcs'), (1, 'hfc'), (1, 'henri'), (1, 'helps'), (1, 'help'), (1, 'healing'), (1, 'heal'), (1, 'hcfcs'), (1, 'hazard'), (1, 'harvard'), (1, 'hardly'), (1, 'guus'), (1, 'guidelines'), (1, 'greenhouse'), (1, 'greatest'), (1, 'gradual'), (1, 'gradient'), (1, 'gnd'), (1, 'given'), (1, 'give'), (1, 'georgetown'), (1, 'geophysical'), (1, 'generally'), (1, 'gathered'), (1, 'gardiner'), (1, 'galex'), (1, 'galaxy'), (1, 'future'), (1, 'further'), (1, 'fund'), (1, 'frontiers'), (1, 'french'), (1, 'forms'), (1, 'formation'), (1, 'format'), (1, 'first'), (1, 'february'), (1, 'fast'), (1, 'facts'), (1, 'fabry'), (1, 'extremely'), (1, 'external'), (1, 'exposure'), (1, 'exposed'), (1, 'explores'), (1, 'explored'), (1, 'existence'), (1, 'excessive'), (1, 'except'), (1, 'exceeding'), (1, 'eventually'), (1, 'estimated'), (1, 'established'), (1, 'essentially'), (1, 'especially'), (1, 'equator'), (1, 'epa'), (1, 'entirely'), (1, 'ensure'), (1, 'enough'), (1, 'end'), (1, 'enacted'), (1, 'electronic'), (1, 'efforts'), (1, 'effect'), (1, 'educate'), (1, 'ecological'), (1, 'early'), (1, 'drops'), (1, 'dropped'), (1, 'done'), (1, 'dobson'), (1, 'dna'), (1, 'divided'), (1, 'distribution'), (1, 'distributed'), (1, 'dissolve'), (1, 'discover'), (1, 'directions'), (1, 'detail'), (1, 'destroy'), (1, 'designed'), (1, 'designated'), (1, 'descriptionshort'), (1, 'description'), (1, 'deprecated'), (1, 'depletionultraviolet'), (1, 'delivers'), (1, 'deduced'), (1, 'decrease'), (1, 'declines'), (1, 'decline'), (1, 'decades'), (1, 'day'), (1, 'datasets'), (1, 'data'), (1, 'dangerous'), (1, 'damaging'), (1, 'cygnus'), (1, 'cycle'), (1, 'cuts'), (1, 'current'), (1, 'curlie'), (1, 'criteria'), (1, 'created'), (1, 'create'), (1, 'copd'), (1, 'cooperation'), (1, 'convenient'), (1, 'control'), (1, 'contribution'), (1, 'contrasts'), (1, 'continuing'), (1, 'continued'), (1, 'contained'), (1, 'constitutes'), (1, 'constituted'), (1, 'consistent'), (1, 'confirmed'), (1, 'concerns'), (1, 'compressed'), (1, 'compound'), (1, 'complement'), (1, 'community'), (1, 'commons'), (1, 'commitments'), (1, 'coming'), (1, 'combines'), (1, 'combination'), (1, 'columns'), (1, 'column'), (1, 'closest'), (1, 'clear'), (1, 'cl'), (1, 'cities'), (1, 'chief'), (1, 'chemistry'), (1, 'chemical'), (1, 'chem'), (1, 'charles'), (1, 'chapman'), (1, 'challenged'), (1, 'chain'), (1, 'certain'), (1, 'century'), (1, 'category'), (1, 'catalyze'), (1, 'carried'), (1, 'capped'), (1, 'cancer'), (1, 'canada'), (1, 'cams'), (1, 'called'), (1, 'c'), (1, 'brian'), (1, 'breaking'), (1, 'br'), (1, 'bonds'), (1, 'body'), (1, 'bnf'), (1, 'bne'), (1, 'blue'), (1, 'blocking'), (1, 'blocked'), (1, 'black'), (1, 'biologically'), (1, 'benedick'), (1, 'below'), (1, 'beginning'), (1, 'before'), (1, 'based'), (1, 'banned'), (1, 'bands'), (1, 'ban'), (1, 'b'), (1, 'averaging'), (1, 'available'), (1, 'auto'), (1, 'author'), (1, 'attempts'), (1, 'atom'), (1, 'astronomical'), (1, 'assistance'), (1, 'assessment'), (1, 'assembly'), (1, 'area'), (1, 'arctic'), (1, 'archives'), (1, 'application'), (1, 'appeared'), (1, 'appear'), (1, 'aph'), (1, 'anthropogenic'), (1, 'answers'), (1, 'anne'), (1, 'analogous'), (1, 'amended'), (1, 'ambient'), (1, 'altitudes'), (1, 'altitude'), (1, 'already'), (1, 'aging'), (1, 'aggravator'), (1, 'affected'), (1, 'affect'), (1, 'aerosol'), (1, 'adverse'), (1, 'adding'), (1, 'actually'), (1, 'actions'), (1, 'action'), (1, 'accumulating'), (1, 'absorbed'), (1, 'abrupt'), (1, 'abide')]\n"
          ]
        },
        {
          "output_type": "display_data",
          "data": {
            "text/plain": [
              "<Figure size 432x288 with 1 Axes>"
            ],
            "image/png": "[encoded data removed]"
          },
          "metadata": {
            "needs_background": "light"
          }
        }
      ]
    },
    {
      "cell_type": "code",
      "source": [],
      "metadata": {
        "id": "Xo0RvHb4MfqZ"
      },
      "execution_count": 12,
      "outputs": []
    }
  ]
}